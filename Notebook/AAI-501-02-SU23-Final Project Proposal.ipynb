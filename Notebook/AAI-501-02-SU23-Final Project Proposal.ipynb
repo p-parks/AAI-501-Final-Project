{
 "cells": [
  {
   "cell_type": "markdown",
   "metadata": {},
   "source": [
    "# AAI-501-02-SU23 - Final Project Proposal Team 1\n",
    "### Paul Parks, Lishi Wang, Ivan Steklov\n",
    "### University of San Diego\n",
    "### AAI-501-02-SU23 - Introduction to AI\n",
    "### Ying Lin\n",
    "### July 17, 2023"
   ]
  },
  {
   "cell_type": "markdown",
   "metadata": {},
   "source": [
    "## Imports"
   ]
  },
  {
   "cell_type": "code",
   "execution_count": 3,
   "metadata": {},
   "outputs": [],
   "source": [
    "# imports\n",
    "import pandas as pd\n",
    "from scipy import stats\n",
    "import statsmodels.api as sm\n",
    "import random\n",
    "import numpy as np\n",
    "import seaborn as sns\n",
    "import matplotlib.pyplot as plt\n",
    "from scipy.stats import norm\n",
    "from sklearn.metrics import mean_absolute_error\n",
    "from sklearn.model_selection import train_test_split\n",
    "from sklearn.linear_model import Ridge"
   ]
  },
  {
   "cell_type": "markdown",
   "metadata": {},
   "source": [
    "## Dataset"
   ]
  },
  {
   "cell_type": "code",
   "execution_count": 4,
   "metadata": {},
   "outputs": [
    {
     "data": {
      "text/html": [
       "<div>\n",
       "<style scoped>\n",
       "    .dataframe tbody tr th:only-of-type {\n",
       "        vertical-align: middle;\n",
       "    }\n",
       "\n",
       "    .dataframe tbody tr th {\n",
       "        vertical-align: top;\n",
       "    }\n",
       "\n",
       "    .dataframe thead th {\n",
       "        text-align: right;\n",
       "    }\n",
       "</style>\n",
       "<table border=\"1\" class=\"dataframe\">\n",
       "  <thead>\n",
       "    <tr style=\"text-align: right;\">\n",
       "      <th></th>\n",
       "      <th>store_name</th>\n",
       "      <th>category</th>\n",
       "      <th>store_address</th>\n",
       "      <th>latitude</th>\n",
       "      <th>longitude</th>\n",
       "      <th>rating_count</th>\n",
       "      <th>review_time</th>\n",
       "      <th>review</th>\n",
       "      <th>rating</th>\n",
       "    </tr>\n",
       "    <tr>\n",
       "      <th>reviewer_id</th>\n",
       "      <th></th>\n",
       "      <th></th>\n",
       "      <th></th>\n",
       "      <th></th>\n",
       "      <th></th>\n",
       "      <th></th>\n",
       "      <th></th>\n",
       "      <th></th>\n",
       "      <th></th>\n",
       "    </tr>\n",
       "  </thead>\n",
       "  <tbody>\n",
       "    <tr>\n",
       "      <th>1</th>\n",
       "      <td>McDonald's</td>\n",
       "      <td>Fast food restaurant</td>\n",
       "      <td>13749 US-183 Hwy, Austin, TX 78750, United States</td>\n",
       "      <td>30.460718</td>\n",
       "      <td>-97.792874</td>\n",
       "      <td>1,240</td>\n",
       "      <td>3 months ago</td>\n",
       "      <td>Why does it look like someone spit on my food?...</td>\n",
       "      <td>1 star</td>\n",
       "    </tr>\n",
       "    <tr>\n",
       "      <th>2</th>\n",
       "      <td>McDonald's</td>\n",
       "      <td>Fast food restaurant</td>\n",
       "      <td>13749 US-183 Hwy, Austin, TX 78750, United States</td>\n",
       "      <td>30.460718</td>\n",
       "      <td>-97.792874</td>\n",
       "      <td>1,240</td>\n",
       "      <td>5 days ago</td>\n",
       "      <td>It'd McDonalds. It is what it is as far as the...</td>\n",
       "      <td>4 stars</td>\n",
       "    </tr>\n",
       "    <tr>\n",
       "      <th>3</th>\n",
       "      <td>McDonald's</td>\n",
       "      <td>Fast food restaurant</td>\n",
       "      <td>13749 US-183 Hwy, Austin, TX 78750, United States</td>\n",
       "      <td>30.460718</td>\n",
       "      <td>-97.792874</td>\n",
       "      <td>1,240</td>\n",
       "      <td>5 days ago</td>\n",
       "      <td>Made a mobile order got to the speaker and che...</td>\n",
       "      <td>1 star</td>\n",
       "    </tr>\n",
       "    <tr>\n",
       "      <th>4</th>\n",
       "      <td>McDonald's</td>\n",
       "      <td>Fast food restaurant</td>\n",
       "      <td>13749 US-183 Hwy, Austin, TX 78750, United States</td>\n",
       "      <td>30.460718</td>\n",
       "      <td>-97.792874</td>\n",
       "      <td>1,240</td>\n",
       "      <td>a month ago</td>\n",
       "      <td>My mc. Crispy chicken sandwich was ï¿½ï¿½ï¿½ï¿...</td>\n",
       "      <td>5 stars</td>\n",
       "    </tr>\n",
       "    <tr>\n",
       "      <th>5</th>\n",
       "      <td>McDonald's</td>\n",
       "      <td>Fast food restaurant</td>\n",
       "      <td>13749 US-183 Hwy, Austin, TX 78750, United States</td>\n",
       "      <td>30.460718</td>\n",
       "      <td>-97.792874</td>\n",
       "      <td>1,240</td>\n",
       "      <td>2 months ago</td>\n",
       "      <td>I repeat my order 3 times in the drive thru, a...</td>\n",
       "      <td>1 star</td>\n",
       "    </tr>\n",
       "  </tbody>\n",
       "</table>\n",
       "</div>"
      ],
      "text/plain": [
       "             store_name              category  \\\n",
       "reviewer_id                                     \n",
       "1            McDonald's  Fast food restaurant   \n",
       "2            McDonald's  Fast food restaurant   \n",
       "3            McDonald's  Fast food restaurant   \n",
       "4            McDonald's  Fast food restaurant   \n",
       "5            McDonald's  Fast food restaurant   \n",
       "\n",
       "                                                 store_address  latitude   \\\n",
       "reviewer_id                                                                 \n",
       "1            13749 US-183 Hwy, Austin, TX 78750, United States  30.460718   \n",
       "2            13749 US-183 Hwy, Austin, TX 78750, United States  30.460718   \n",
       "3            13749 US-183 Hwy, Austin, TX 78750, United States  30.460718   \n",
       "4            13749 US-183 Hwy, Austin, TX 78750, United States  30.460718   \n",
       "5            13749 US-183 Hwy, Austin, TX 78750, United States  30.460718   \n",
       "\n",
       "             longitude rating_count   review_time  \\\n",
       "reviewer_id                                         \n",
       "1           -97.792874        1,240  3 months ago   \n",
       "2           -97.792874        1,240    5 days ago   \n",
       "3           -97.792874        1,240    5 days ago   \n",
       "4           -97.792874        1,240   a month ago   \n",
       "5           -97.792874        1,240  2 months ago   \n",
       "\n",
       "                                                        review   rating  \n",
       "reviewer_id                                                              \n",
       "1            Why does it look like someone spit on my food?...   1 star  \n",
       "2            It'd McDonalds. It is what it is as far as the...  4 stars  \n",
       "3            Made a mobile order got to the speaker and che...   1 star  \n",
       "4            My mc. Crispy chicken sandwich was ï¿½ï¿½ï¿½ï¿...  5 stars  \n",
       "5            I repeat my order 3 times in the drive thru, a...   1 star  "
      ]
     },
     "execution_count": 4,
     "metadata": {},
     "output_type": "execute_result"
    }
   ],
   "source": [
    "df = pd.read_csv('../Dataset/McDonald_s_Reviews.csv', encoding='latin-1', index_col='reviewer_id')\n",
    "df.head()"
   ]
  },
  {
   "cell_type": "markdown",
   "metadata": {},
   "source": [
    "## Cleaning"
   ]
  },
  {
   "cell_type": "code",
   "execution_count": 5,
   "metadata": {},
   "outputs": [
    {
     "data": {
      "text/html": [
       "<div>\n",
       "<style scoped>\n",
       "    .dataframe tbody tr th:only-of-type {\n",
       "        vertical-align: middle;\n",
       "    }\n",
       "\n",
       "    .dataframe tbody tr th {\n",
       "        vertical-align: top;\n",
       "    }\n",
       "\n",
       "    .dataframe thead th {\n",
       "        text-align: right;\n",
       "    }\n",
       "</style>\n",
       "<table border=\"1\" class=\"dataframe\">\n",
       "  <thead>\n",
       "    <tr style=\"text-align: right;\">\n",
       "      <th></th>\n",
       "      <th>store_name</th>\n",
       "      <th>category</th>\n",
       "      <th>store_address</th>\n",
       "      <th>latitude</th>\n",
       "      <th>longitude</th>\n",
       "      <th>rating_count</th>\n",
       "      <th>review_time</th>\n",
       "      <th>review</th>\n",
       "      <th>rating</th>\n",
       "      <th>rating_int</th>\n",
       "    </tr>\n",
       "    <tr>\n",
       "      <th>reviewer_id</th>\n",
       "      <th></th>\n",
       "      <th></th>\n",
       "      <th></th>\n",
       "      <th></th>\n",
       "      <th></th>\n",
       "      <th></th>\n",
       "      <th></th>\n",
       "      <th></th>\n",
       "      <th></th>\n",
       "      <th></th>\n",
       "    </tr>\n",
       "  </thead>\n",
       "  <tbody>\n",
       "    <tr>\n",
       "      <th>1</th>\n",
       "      <td>McDonald's</td>\n",
       "      <td>Fast food restaurant</td>\n",
       "      <td>13749 US-183 Hwy, Austin, TX 78750, United States</td>\n",
       "      <td>30.460718</td>\n",
       "      <td>-97.792874</td>\n",
       "      <td>1,240</td>\n",
       "      <td>3 months ago</td>\n",
       "      <td>Why does it look like someone spit on my food?...</td>\n",
       "      <td>1 star</td>\n",
       "      <td>1</td>\n",
       "    </tr>\n",
       "    <tr>\n",
       "      <th>2</th>\n",
       "      <td>McDonald's</td>\n",
       "      <td>Fast food restaurant</td>\n",
       "      <td>13749 US-183 Hwy, Austin, TX 78750, United States</td>\n",
       "      <td>30.460718</td>\n",
       "      <td>-97.792874</td>\n",
       "      <td>1,240</td>\n",
       "      <td>5 days ago</td>\n",
       "      <td>It'd McDonalds. It is what it is as far as the...</td>\n",
       "      <td>4 stars</td>\n",
       "      <td>4</td>\n",
       "    </tr>\n",
       "    <tr>\n",
       "      <th>3</th>\n",
       "      <td>McDonald's</td>\n",
       "      <td>Fast food restaurant</td>\n",
       "      <td>13749 US-183 Hwy, Austin, TX 78750, United States</td>\n",
       "      <td>30.460718</td>\n",
       "      <td>-97.792874</td>\n",
       "      <td>1,240</td>\n",
       "      <td>5 days ago</td>\n",
       "      <td>Made a mobile order got to the speaker and che...</td>\n",
       "      <td>1 star</td>\n",
       "      <td>1</td>\n",
       "    </tr>\n",
       "    <tr>\n",
       "      <th>4</th>\n",
       "      <td>McDonald's</td>\n",
       "      <td>Fast food restaurant</td>\n",
       "      <td>13749 US-183 Hwy, Austin, TX 78750, United States</td>\n",
       "      <td>30.460718</td>\n",
       "      <td>-97.792874</td>\n",
       "      <td>1,240</td>\n",
       "      <td>a month ago</td>\n",
       "      <td>My mc. Crispy chicken sandwich was ï¿½ï¿½ï¿½ï¿...</td>\n",
       "      <td>5 stars</td>\n",
       "      <td>5</td>\n",
       "    </tr>\n",
       "    <tr>\n",
       "      <th>5</th>\n",
       "      <td>McDonald's</td>\n",
       "      <td>Fast food restaurant</td>\n",
       "      <td>13749 US-183 Hwy, Austin, TX 78750, United States</td>\n",
       "      <td>30.460718</td>\n",
       "      <td>-97.792874</td>\n",
       "      <td>1,240</td>\n",
       "      <td>2 months ago</td>\n",
       "      <td>I repeat my order 3 times in the drive thru, a...</td>\n",
       "      <td>1 star</td>\n",
       "      <td>1</td>\n",
       "    </tr>\n",
       "  </tbody>\n",
       "</table>\n",
       "</div>"
      ],
      "text/plain": [
       "             store_name              category  \\\n",
       "reviewer_id                                     \n",
       "1            McDonald's  Fast food restaurant   \n",
       "2            McDonald's  Fast food restaurant   \n",
       "3            McDonald's  Fast food restaurant   \n",
       "4            McDonald's  Fast food restaurant   \n",
       "5            McDonald's  Fast food restaurant   \n",
       "\n",
       "                                                 store_address  latitude   \\\n",
       "reviewer_id                                                                 \n",
       "1            13749 US-183 Hwy, Austin, TX 78750, United States  30.460718   \n",
       "2            13749 US-183 Hwy, Austin, TX 78750, United States  30.460718   \n",
       "3            13749 US-183 Hwy, Austin, TX 78750, United States  30.460718   \n",
       "4            13749 US-183 Hwy, Austin, TX 78750, United States  30.460718   \n",
       "5            13749 US-183 Hwy, Austin, TX 78750, United States  30.460718   \n",
       "\n",
       "             longitude rating_count   review_time  \\\n",
       "reviewer_id                                         \n",
       "1           -97.792874        1,240  3 months ago   \n",
       "2           -97.792874        1,240    5 days ago   \n",
       "3           -97.792874        1,240    5 days ago   \n",
       "4           -97.792874        1,240   a month ago   \n",
       "5           -97.792874        1,240  2 months ago   \n",
       "\n",
       "                                                        review   rating  \\\n",
       "reviewer_id                                                               \n",
       "1            Why does it look like someone spit on my food?...   1 star   \n",
       "2            It'd McDonalds. It is what it is as far as the...  4 stars   \n",
       "3            Made a mobile order got to the speaker and che...   1 star   \n",
       "4            My mc. Crispy chicken sandwich was ï¿½ï¿½ï¿½ï¿...  5 stars   \n",
       "5            I repeat my order 3 times in the drive thru, a...   1 star   \n",
       "\n",
       "             rating_int  \n",
       "reviewer_id              \n",
       "1                     1  \n",
       "2                     4  \n",
       "3                     1  \n",
       "4                     5  \n",
       "5                     1  "
      ]
     },
     "execution_count": 5,
     "metadata": {},
     "output_type": "execute_result"
    }
   ],
   "source": [
    "df['rating_int'] = df['rating'].apply(lambda x: int(x.split(' ')[0]))\n",
    "df.head()"
   ]
  },
  {
   "cell_type": "code",
   "execution_count": 6,
   "metadata": {},
   "outputs": [
    {
     "name": "stderr",
     "output_type": "stream",
     "text": [
      "2023-07-18 20:09:21.608661: W tensorflow/tsl/platform/profile_utils/cpu_utils.cc:128] Failed to get CPU frequency: 0 Hz\n"
     ]
    }
   ],
   "source": [
    "import tensorflow as tf\n",
    "import tensorflow_hub as hub\n",
    "module_url = \"https://tfhub.dev/google/universal-sentence-encoder/4\"\n",
    "model = hub.load(module_url)"
   ]
  },
  {
   "cell_type": "code",
   "execution_count": 7,
   "metadata": {},
   "outputs": [
    {
     "name": "stdout",
     "output_type": "stream",
     "text": [
      "reviewer_id\n",
      "29558                                              Neutral\n",
      "20877                                                Good \n",
      "32341    Iï¿½ï¿½ï¿½ï¿½ï¿½ï¿½ï¿½ï¿½ï¿½ï¿½ï¿½ï¿½ï¿½ï¿½ï¿½...\n",
      "6553     Doesn't open 24hrs. Tables gotta get cleaned b...\n",
      "26482    Horrible customer service I have ever seen. Th...\n",
      "                               ...                        \n",
      "16851                              Very clean and friendly\n",
      "6266               Bum central avoid this one at all costs\n",
      "11285    As always the service is slow,  its a busy spo...\n",
      "861      Was able to get dinner in just under 9 minutes...\n",
      "15796       The manger was so very rude and service sticks\n",
      "Name: review, Length: 26716, dtype: object\n",
      "Shape of X_train: (26716,)\n",
      "Shape of X_test: (6680,)\n",
      "Shape of y_train: (26716,)\n",
      "Shape of y_test: (6680,)\n"
     ]
    }
   ],
   "source": [
    "X = df['review']\n",
    "y = df['rating_int']\n",
    "\n",
    "X_train, X_test, y_train, y_test = train_test_split(X, y, test_size=0.2, random_state=42)\n",
    "print(X_train)\n",
    "print('Shape of X_train:', X_train.shape)\n",
    "print('Shape of X_test:', y_test.shape)\n",
    "print('Shape of y_train:', y_train.shape)\n",
    "print('Shape of y_test:', y_test.shape)"
   ]
  },
  {
   "cell_type": "code",
   "execution_count": 8,
   "metadata": {},
   "outputs": [],
   "source": [
    "def embed(input):\n",
    "  return model(input)\n",
    "xtrain = embed(X_train)\n",
    "xtest = embed(X_test)"
   ]
  },
  {
   "cell_type": "code",
   "execution_count": 9,
   "metadata": {},
   "outputs": [
    {
     "name": "stdout",
     "output_type": "stream",
     "text": [
      "The coefficient of determination (R^2 score) for the model trained on embeddings is: 0.6741589814649641\n"
     ]
    }
   ],
   "source": [
    "ridge = Ridge()\n",
    "ridge.fit(xtrain, y_train)\n",
    "r2_score = ridge.score(xtest, y_test)\n",
    "print(f\"The coefficient of determination (R^2 score) for the model trained on embeddings is: {r2_score}\")"
   ]
  },
  {
   "cell_type": "code",
   "execution_count": 10,
   "metadata": {},
   "outputs": [
    {
     "data": {
      "image/png": "[encoded data removed]",
      "text/plain": [
       "<Figure size 640x480 with 1 Axes>"
      ]
     },
     "metadata": {},
     "output_type": "display_data"
    }
   ],
   "source": [
    "y_pred_embeddings = ridge.predict(xtest)\n",
    "\n",
    "minv = min(y_test.min(), y_pred_embeddings.min())\n",
    "maxv = max(y_test.max(), y_pred_embeddings.max())\n",
    "bins = np.arange(minv, maxv + 1) - 0.5\n",
    "\n",
    "sns.histplot(y_pred_embeddings, bins=bins, color='green', label='Predicted Scores')\n",
    "sns.histplot(y_test, bins=bins, color='yellow', alpha=0.5, label='True Scores')\n",
    "\n",
    "plt.xlabel('Score')\n",
    "plt.ylabel('Count')\n",
    "plt.title('Histogram of Predicted and True Scores')\n",
    "plt.legend()\n",
    "plt.show()"
   ]
  },
  {
   "cell_type": "code",
   "execution_count": 25,
   "metadata": {},
   "outputs": [
    {
     "name": "stdout",
     "output_type": "stream",
     "text": [
      "[4.67723906]\n",
      "[4.47726387]\n",
      "[2.4896444]\n",
      "[2.37086868]\n",
      "[1.74599683]\n"
     ]
    }
   ],
   "source": [
    "def get_test_review(review):\n",
    "    test_data = pd.DataFrame({\n",
    "        'review': [review],\n",
    "    }, index=[99999])\n",
    "    test_data = test_data.reset_index().rename(columns={'index': 'reviewer_id'})\n",
    "    test_data_f = test_data['review']\n",
    "    review = embed(test_data_f)\n",
    "    return ridge.predict(review)\n",
    "\n",
    "review = \"I loved the nuggets\"\n",
    "print(get_test_review(review))\n",
    "\n",
    "review = \"I liked the nuggets\"\n",
    "print(get_test_review(review))\n",
    "\n",
    "review = \"Meh\"\n",
    "print(get_test_review(review))\n",
    "\n",
    "review = \"I did not like the nuggets\"\n",
    "print(get_test_review(review))\n",
    "\n",
    "review = \"I did not like the nuggets. Terrible service.\"\n",
    "print(get_test_review(review))\n"
   ]
  }
 ],
 "metadata": {
  "kernelspec": {
   "display_name": "msaai-1",
   "language": "python",
   "name": "python3"
  },
  "language_info": {
   "codemirror_mode": {
    "name": "ipython",
    "version": 3
   },
   "file_extension": ".py",
   "mimetype": "text/x-python",
   "name": "python",
   "nbconvert_exporter": "python",
   "pygments_lexer": "ipython3",
   "version": "3.10.12"
  },
  "orig_nbformat": 4
 },
 "nbformat": 4,
 "nbformat_minor": 2
}
