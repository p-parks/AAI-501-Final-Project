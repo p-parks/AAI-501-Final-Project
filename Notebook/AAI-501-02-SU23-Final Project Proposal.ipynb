{
 "cells": [
  {
   "cell_type": "markdown",
   "metadata": {},
   "source": [
    "# AAI-501-02-SU23 - Final Project Proposal Team 1\n",
    "### Paul Parks, Lishi Wang, Ivan Steklov\n",
    "### University of San Diego\n",
    "### AAI-501-02-SU23 - Introduction to AI\n",
    "### Ying Lin\n",
    "### July 17, 2023"
   ]
  },
  {
   "cell_type": "markdown",
   "metadata": {},
   "source": [
    "## Imports"
   ]
  },
  {
   "cell_type": "code",
   "execution_count": 26,
   "metadata": {},
   "outputs": [],
   "source": [
    "# imports\n",
    "import pandas as pd\n",
    "from scipy import stats\n",
    "import statsmodels.api as sm\n",
    "import random\n",
    "import numpy as np\n",
    "import seaborn as sns\n",
    "import matplotlib.pyplot as plt\n",
    "from scipy.stats import norm\n",
    "from sklearn.metrics import mean_absolute_error\n",
    "from sklearn.model_selection import train_test_split\n",
    "from sklearn.linear_model import Ridge"
   ]
  },
  {
   "cell_type": "markdown",
   "metadata": {},
   "source": [
    "## Dataset"
   ]
  },
  {
   "cell_type": "code",
   "execution_count": 27,
   "metadata": {},
   "outputs": [
    {
     "data": {
      "text/html": [
       "<div>\n",
       "<style scoped>\n",
       "    .dataframe tbody tr th:only-of-type {\n",
       "        vertical-align: middle;\n",
       "    }\n",
       "\n",
       "    .dataframe tbody tr th {\n",
       "        vertical-align: top;\n",
       "    }\n",
       "\n",
       "    .dataframe thead th {\n",
       "        text-align: right;\n",
       "    }\n",
       "</style>\n",
       "<table border=\"1\" class=\"dataframe\">\n",
       "  <thead>\n",
       "    <tr style=\"text-align: right;\">\n",
       "      <th></th>\n",
       "      <th>store_name</th>\n",
       "      <th>category</th>\n",
       "      <th>store_address</th>\n",
       "      <th>latitude</th>\n",
       "      <th>longitude</th>\n",
       "      <th>rating_count</th>\n",
       "      <th>review_time</th>\n",
       "      <th>review</th>\n",
       "      <th>rating</th>\n",
       "    </tr>\n",
       "    <tr>\n",
       "      <th>reviewer_id</th>\n",
       "      <th></th>\n",
       "      <th></th>\n",
       "      <th></th>\n",
       "      <th></th>\n",
       "      <th></th>\n",
       "      <th></th>\n",
       "      <th></th>\n",
       "      <th></th>\n",
       "      <th></th>\n",
       "    </tr>\n",
       "  </thead>\n",
       "  <tbody>\n",
       "    <tr>\n",
       "      <th>1</th>\n",
       "      <td>McDonald's</td>\n",
       "      <td>Fast food restaurant</td>\n",
       "      <td>13749 US-183 Hwy, Austin, TX 78750, United States</td>\n",
       "      <td>30.460718</td>\n",
       "      <td>-97.792874</td>\n",
       "      <td>1,240</td>\n",
       "      <td>3 months ago</td>\n",
       "      <td>Why does it look like someone spit on my food?...</td>\n",
       "      <td>1 star</td>\n",
       "    </tr>\n",
       "    <tr>\n",
       "      <th>2</th>\n",
       "      <td>McDonald's</td>\n",
       "      <td>Fast food restaurant</td>\n",
       "      <td>13749 US-183 Hwy, Austin, TX 78750, United States</td>\n",
       "      <td>30.460718</td>\n",
       "      <td>-97.792874</td>\n",
       "      <td>1,240</td>\n",
       "      <td>5 days ago</td>\n",
       "      <td>It'd McDonalds. It is what it is as far as the...</td>\n",
       "      <td>4 stars</td>\n",
       "    </tr>\n",
       "    <tr>\n",
       "      <th>3</th>\n",
       "      <td>McDonald's</td>\n",
       "      <td>Fast food restaurant</td>\n",
       "      <td>13749 US-183 Hwy, Austin, TX 78750, United States</td>\n",
       "      <td>30.460718</td>\n",
       "      <td>-97.792874</td>\n",
       "      <td>1,240</td>\n",
       "      <td>5 days ago</td>\n",
       "      <td>Made a mobile order got to the speaker and che...</td>\n",
       "      <td>1 star</td>\n",
       "    </tr>\n",
       "    <tr>\n",
       "      <th>4</th>\n",
       "      <td>McDonald's</td>\n",
       "      <td>Fast food restaurant</td>\n",
       "      <td>13749 US-183 Hwy, Austin, TX 78750, United States</td>\n",
       "      <td>30.460718</td>\n",
       "      <td>-97.792874</td>\n",
       "      <td>1,240</td>\n",
       "      <td>a month ago</td>\n",
       "      <td>My mc. Crispy chicken sandwich was ï¿½ï¿½ï¿½ï¿...</td>\n",
       "      <td>5 stars</td>\n",
       "    </tr>\n",
       "    <tr>\n",
       "      <th>5</th>\n",
       "      <td>McDonald's</td>\n",
       "      <td>Fast food restaurant</td>\n",
       "      <td>13749 US-183 Hwy, Austin, TX 78750, United States</td>\n",
       "      <td>30.460718</td>\n",
       "      <td>-97.792874</td>\n",
       "      <td>1,240</td>\n",
       "      <td>2 months ago</td>\n",
       "      <td>I repeat my order 3 times in the drive thru, a...</td>\n",
       "      <td>1 star</td>\n",
       "    </tr>\n",
       "  </tbody>\n",
       "</table>\n",
       "</div>"
      ],
      "text/plain": [
       "             store_name              category  \\\n",
       "reviewer_id                                     \n",
       "1            McDonald's  Fast food restaurant   \n",
       "2            McDonald's  Fast food restaurant   \n",
       "3            McDonald's  Fast food restaurant   \n",
       "4            McDonald's  Fast food restaurant   \n",
       "5            McDonald's  Fast food restaurant   \n",
       "\n",
       "                                                 store_address  latitude   \\\n",
       "reviewer_id                                                                 \n",
       "1            13749 US-183 Hwy, Austin, TX 78750, United States  30.460718   \n",
       "2            13749 US-183 Hwy, Austin, TX 78750, United States  30.460718   \n",
       "3            13749 US-183 Hwy, Austin, TX 78750, United States  30.460718   \n",
       "4            13749 US-183 Hwy, Austin, TX 78750, United States  30.460718   \n",
       "5            13749 US-183 Hwy, Austin, TX 78750, United States  30.460718   \n",
       "\n",
       "             longitude rating_count   review_time  \\\n",
       "reviewer_id                                         \n",
       "1           -97.792874        1,240  3 months ago   \n",
       "2           -97.792874        1,240    5 days ago   \n",
       "3           -97.792874        1,240    5 days ago   \n",
       "4           -97.792874        1,240   a month ago   \n",
       "5           -97.792874        1,240  2 months ago   \n",
       "\n",
       "                                                        review   rating  \n",
       "reviewer_id                                                              \n",
       "1            Why does it look like someone spit on my food?...   1 star  \n",
       "2            It'd McDonalds. It is what it is as far as the...  4 stars  \n",
       "3            Made a mobile order got to the speaker and che...   1 star  \n",
       "4            My mc. Crispy chicken sandwich was ï¿½ï¿½ï¿½ï¿...  5 stars  \n",
       "5            I repeat my order 3 times in the drive thru, a...   1 star  "
      ]
     },
     "execution_count": 27,
     "metadata": {},
     "output_type": "execute_result"
    }
   ],
   "source": [
    "df = pd.read_csv('../Dataset/McDonald_s_Reviews.csv', encoding='latin-1', index_col='reviewer_id')\n",
    "df.head()"
   ]
  },
  {
   "cell_type": "markdown",
   "metadata": {},
   "source": [
    "## Cleaning"
   ]
  },
  {
   "cell_type": "code",
   "execution_count": 28,
   "metadata": {},
   "outputs": [
    {
     "data": {
      "text/html": [
       "<div>\n",
       "<style scoped>\n",
       "    .dataframe tbody tr th:only-of-type {\n",
       "        vertical-align: middle;\n",
       "    }\n",
       "\n",
       "    .dataframe tbody tr th {\n",
       "        vertical-align: top;\n",
       "    }\n",
       "\n",
       "    .dataframe thead th {\n",
       "        text-align: right;\n",
       "    }\n",
       "</style>\n",
       "<table border=\"1\" class=\"dataframe\">\n",
       "  <thead>\n",
       "    <tr style=\"text-align: right;\">\n",
       "      <th></th>\n",
       "      <th>store_name</th>\n",
       "      <th>category</th>\n",
       "      <th>store_address</th>\n",
       "      <th>latitude</th>\n",
       "      <th>longitude</th>\n",
       "      <th>rating_count</th>\n",
       "      <th>review_time</th>\n",
       "      <th>review</th>\n",
       "      <th>rating</th>\n",
       "      <th>rating_int</th>\n",
       "    </tr>\n",
       "    <tr>\n",
       "      <th>reviewer_id</th>\n",
       "      <th></th>\n",
       "      <th></th>\n",
       "      <th></th>\n",
       "      <th></th>\n",
       "      <th></th>\n",
       "      <th></th>\n",
       "      <th></th>\n",
       "      <th></th>\n",
       "      <th></th>\n",
       "      <th></th>\n",
       "    </tr>\n",
       "  </thead>\n",
       "  <tbody>\n",
       "    <tr>\n",
       "      <th>1</th>\n",
       "      <td>McDonald's</td>\n",
       "      <td>Fast food restaurant</td>\n",
       "      <td>13749 US-183 Hwy, Austin, TX 78750, United States</td>\n",
       "      <td>30.460718</td>\n",
       "      <td>-97.792874</td>\n",
       "      <td>1,240</td>\n",
       "      <td>3 months ago</td>\n",
       "      <td>Why does it look like someone spit on my food?...</td>\n",
       "      <td>1 star</td>\n",
       "      <td>1</td>\n",
       "    </tr>\n",
       "    <tr>\n",
       "      <th>2</th>\n",
       "      <td>McDonald's</td>\n",
       "      <td>Fast food restaurant</td>\n",
       "      <td>13749 US-183 Hwy, Austin, TX 78750, United States</td>\n",
       "      <td>30.460718</td>\n",
       "      <td>-97.792874</td>\n",
       "      <td>1,240</td>\n",
       "      <td>5 days ago</td>\n",
       "      <td>It'd McDonalds. It is what it is as far as the...</td>\n",
       "      <td>4 stars</td>\n",
       "      <td>4</td>\n",
       "    </tr>\n",
       "    <tr>\n",
       "      <th>3</th>\n",
       "      <td>McDonald's</td>\n",
       "      <td>Fast food restaurant</td>\n",
       "      <td>13749 US-183 Hwy, Austin, TX 78750, United States</td>\n",
       "      <td>30.460718</td>\n",
       "      <td>-97.792874</td>\n",
       "      <td>1,240</td>\n",
       "      <td>5 days ago</td>\n",
       "      <td>Made a mobile order got to the speaker and che...</td>\n",
       "      <td>1 star</td>\n",
       "      <td>1</td>\n",
       "    </tr>\n",
       "    <tr>\n",
       "      <th>4</th>\n",
       "      <td>McDonald's</td>\n",
       "      <td>Fast food restaurant</td>\n",
       "      <td>13749 US-183 Hwy, Austin, TX 78750, United States</td>\n",
       "      <td>30.460718</td>\n",
       "      <td>-97.792874</td>\n",
       "      <td>1,240</td>\n",
       "      <td>a month ago</td>\n",
       "      <td>My mc. Crispy chicken sandwich was ï¿½ï¿½ï¿½ï¿...</td>\n",
       "      <td>5 stars</td>\n",
       "      <td>5</td>\n",
       "    </tr>\n",
       "    <tr>\n",
       "      <th>5</th>\n",
       "      <td>McDonald's</td>\n",
       "      <td>Fast food restaurant</td>\n",
       "      <td>13749 US-183 Hwy, Austin, TX 78750, United States</td>\n",
       "      <td>30.460718</td>\n",
       "      <td>-97.792874</td>\n",
       "      <td>1,240</td>\n",
       "      <td>2 months ago</td>\n",
       "      <td>I repeat my order 3 times in the drive thru, a...</td>\n",
       "      <td>1 star</td>\n",
       "      <td>1</td>\n",
       "    </tr>\n",
       "  </tbody>\n",
       "</table>\n",
       "</div>"
      ],
      "text/plain": [
       "             store_name              category  \\\n",
       "reviewer_id                                     \n",
       "1            McDonald's  Fast food restaurant   \n",
       "2            McDonald's  Fast food restaurant   \n",
       "3            McDonald's  Fast food restaurant   \n",
       "4            McDonald's  Fast food restaurant   \n",
       "5            McDonald's  Fast food restaurant   \n",
       "\n",
       "                                                 store_address  latitude   \\\n",
       "reviewer_id                                                                 \n",
       "1            13749 US-183 Hwy, Austin, TX 78750, United States  30.460718   \n",
       "2            13749 US-183 Hwy, Austin, TX 78750, United States  30.460718   \n",
       "3            13749 US-183 Hwy, Austin, TX 78750, United States  30.460718   \n",
       "4            13749 US-183 Hwy, Austin, TX 78750, United States  30.460718   \n",
       "5            13749 US-183 Hwy, Austin, TX 78750, United States  30.460718   \n",
       "\n",
       "             longitude rating_count   review_time  \\\n",
       "reviewer_id                                         \n",
       "1           -97.792874        1,240  3 months ago   \n",
       "2           -97.792874        1,240    5 days ago   \n",
       "3           -97.792874        1,240    5 days ago   \n",
       "4           -97.792874        1,240   a month ago   \n",
       "5           -97.792874        1,240  2 months ago   \n",
       "\n",
       "                                                        review   rating  \\\n",
       "reviewer_id                                                               \n",
       "1            Why does it look like someone spit on my food?...   1 star   \n",
       "2            It'd McDonalds. It is what it is as far as the...  4 stars   \n",
       "3            Made a mobile order got to the speaker and che...   1 star   \n",
       "4            My mc. Crispy chicken sandwich was ï¿½ï¿½ï¿½ï¿...  5 stars   \n",
       "5            I repeat my order 3 times in the drive thru, a...   1 star   \n",
       "\n",
       "             rating_int  \n",
       "reviewer_id              \n",
       "1                     1  \n",
       "2                     4  \n",
       "3                     1  \n",
       "4                     5  \n",
       "5                     1  "
      ]
     },
     "execution_count": 28,
     "metadata": {},
     "output_type": "execute_result"
    }
   ],
   "source": [
    "df['rating_int'] = df['rating'].apply(lambda x: int(x.split(' ')[0]))\n",
    "df.head()"
   ]
  },
  {
   "cell_type": "code",
   "execution_count": 29,
   "metadata": {},
   "outputs": [],
   "source": [
    "import tensorflow as tf\n",
    "import tensorflow_hub as hub\n",
    "module_url = \"https://tfhub.dev/google/universal-sentence-encoder/4\"\n",
    "model = hub.load(module_url)"
   ]
  },
  {
   "cell_type": "code",
   "execution_count": 30,
   "metadata": {},
   "outputs": [
    {
     "name": "stdout",
     "output_type": "stream",
     "text": [
      "reviewer_id\n",
      "29558                                              Neutral\n",
      "20877                                                Good \n",
      "32341    Iï¿½ï¿½ï¿½ï¿½ï¿½ï¿½ï¿½ï¿½ï¿½ï¿½ï¿½ï¿½ï¿½ï¿½ï¿½...\n",
      "6553     Doesn't open 24hrs. Tables gotta get cleaned b...\n",
      "26482    Horrible customer service I have ever seen. Th...\n",
      "                               ...                        \n",
      "16851                              Very clean and friendly\n",
      "6266               Bum central avoid this one at all costs\n",
      "11285    As always the service is slow,  its a busy spo...\n",
      "861      Was able to get dinner in just under 9 minutes...\n",
      "15796       The manger was so very rude and service sticks\n",
      "Name: review, Length: 26716, dtype: object\n",
      "Shape of X_train: (26716,)\n",
      "Shape of X_test: (6680,)\n",
      "Shape of y_train: (26716,)\n",
      "Shape of y_test: (6680,)\n"
     ]
    }
   ],
   "source": [
    "X = df['review']\n",
    "y = df['rating_int']\n",
    "\n",
    "X_train, X_test, y_train, y_test = train_test_split(X, y, test_size=0.2, random_state=42)\n",
    "print(X_train)\n",
    "print('Shape of X_train:', X_train.shape)\n",
    "print('Shape of X_test:', y_test.shape)\n",
    "print('Shape of y_train:', y_train.shape)\n",
    "print('Shape of y_test:', y_test.shape)"
   ]
  },
  {
   "cell_type": "code",
   "execution_count": 31,
   "metadata": {},
   "outputs": [],
   "source": [
    "def embed(input):\n",
    "  return model(input)\n",
    "xtrain = embed(X_train)\n",
    "xtest = embed(X_test)"
   ]
  },
  {
   "cell_type": "code",
   "execution_count": 32,
   "metadata": {},
   "outputs": [
    {
     "name": "stdout",
     "output_type": "stream",
     "text": [
      "The coefficient of determination (R^2 score) for the model trained on embeddings is: 0.6741589814649641\n"
     ]
    }
   ],
   "source": [
    "ridge = Ridge()\n",
    "ridge.fit(xtrain, y_train)\n",
    "r2_score = ridge.score(xtest, y_test)\n",
    "print(f\"The coefficient of determination (R^2 score) for the model trained on embeddings is: {r2_score}\")"
   ]
  },
  {
   "cell_type": "code",
   "execution_count": 33,
   "metadata": {},
   "outputs": [
    {
     "data": {
      "image/png": "[encoded data removed]",
      "text/plain": [
       "<Figure size 640x480 with 1 Axes>"
      ]
     },
     "metadata": {},
     "output_type": "display_data"
    }
   ],
   "source": [
    "y_pred_embeddings = ridge.predict(xtest)\n",
    "\n",
    "minv = min(y_test.min(), y_pred_embeddings.min())\n",
    "maxv = max(y_test.max(), y_pred_embeddings.max())\n",
    "bins = np.arange(minv, maxv + 1) - 0.5\n",
    "\n",
    "sns.histplot(y_pred_embeddings, bins=bins, color='green', label='Predicted Scores')\n",
    "sns.histplot(y_test, bins=bins, color='yellow', alpha=0.5, label='True Scores')\n",
    "\n",
    "plt.xlabel('Score')\n",
    "plt.ylabel('Count')\n",
    "plt.title('Histogram of Predicted and True Scores')\n",
    "plt.legend()\n",
    "plt.show()"
   ]
  },
  {
   "cell_type": "code",
   "execution_count": 38,
   "metadata": {},
   "outputs": [
    {
     "name": "stdout",
     "output_type": "stream",
     "text": [
      "[4.67723905880448, 'Positive']\n",
      "[4.47726386717733, 'Positive']\n",
      "[2.4896444010067507, 'Neutral']\n",
      "[2.370868681863855, 'Neutral']\n",
      "[1.7459968252374325, 'Negative']\n"
     ]
    }
   ],
   "source": [
    "def calculate_sentiment(score):\n",
    "    if score >= 4:\n",
    "        return \"Positive\"\n",
    "    elif score > 2:\n",
    "        return \"Neutral\"\n",
    "    elif score <= 2:\n",
    "        return \"Negative\"\n",
    "    else:\n",
    "        return \"Invalid Score\"\n",
    "\n",
    "def get_test_review(review):\n",
    "    test_data = pd.DataFrame({\n",
    "        'review': [review],\n",
    "    }, index=[99999])\n",
    "    test_data = test_data.reset_index().rename(columns={'index': 'reviewer_id'})\n",
    "    test_data_f = test_data['review']\n",
    "    review = embed(test_data_f)\n",
    "    review_score = ridge.predict(review)[0]\n",
    "    review_sentiment = calculate_sentiment(review_score)\n",
    "    return [review_score, review_sentiment]\n",
    "\n",
    "review = \"I loved the nuggets\"\n",
    "print(get_test_review(review))\n",
    "\n",
    "review = \"I liked the nuggets\"\n",
    "print(get_test_review(review))\n",
    "\n",
    "review = \"Meh\"\n",
    "print(get_test_review(review))\n",
    "\n",
    "review = \"I did not like the nuggets\"\n",
    "print(get_test_review(review))\n",
    "\n",
    "review = \"I did not like the nuggets. Terrible service.\"\n",
    "print(get_test_review(review))\n"
   ]
  },
  {
   "cell_type": "markdown",
   "metadata": {},
   "source": [
    "## Can this be improved by using a Bayesian model?"
   ]
  },
  {
   "cell_type": "code",
   "execution_count": 35,
   "metadata": {},
   "outputs": [
    {
     "name": "stdout",
     "output_type": "stream",
     "text": [
      "R2 Score:  0.674227346399676\n"
     ]
    }
   ],
   "source": [
    "from sklearn.linear_model import BayesianRidge\n",
    "\n",
    "bayesian_ridge = BayesianRidge()\n",
    "bayesian_ridge.fit(xtrain, y_train)\n",
    "\n",
    "r2_score_bayesian = bayesian_ridge.score(xtest, y_test)\n",
    "print(\"R2 Score: \", r2_score_bayesian)\n",
    "\n"
   ]
  },
  {
   "cell_type": "markdown",
   "metadata": {},
   "source": [
    "```\n",
    "This score is slightly better than the linear regression R2 score. \n",
    "Ridge r2 was 0.6741589814649641\n",
    "BayesianRidge r2 was 0.674227346399676\n",
    "The difference in predictive performance between the two models is negligible.\n",
    "```"
   ]
  },
  {
   "cell_type": "markdown",
   "metadata": {},
   "source": [
    "## Geolocation"
   ]
  },
  {
   "cell_type": "code",
   "execution_count": 50,
   "metadata": {},
   "outputs": [
    {
     "data": {
      "text/plain": [
       "12"
      ]
     },
     "execution_count": 50,
     "metadata": {},
     "output_type": "execute_result"
    }
   ],
   "source": [
    "import re\n",
    "\n",
    "def get_state_from_address(address):\n",
    "    state_match = re.search(r'\\b[A-Z]{2}\\b\\s\\d{5}', address)\n",
    "    return state_match.group(0).split()[0] if state_match else ''\n",
    "\n",
    "df['state'] = df['store_address'].apply(get_state_from_address)\n",
    "# df['state'].describe()\n",
    "# df['state'].head()\n",
    "df['state'].nunique()\n",
    "# unique_states = df[['state']].drop_duplicates()\n",
    "# print(unique_states)\n",
    "\n",
    "# Investigate the blank states\n",
    "# rows_with_blank_state = df[df['state'] == '']\n",
    "# print(rows_with_blank_state[\"store_address\"])\n",
    "\n"
   ]
  },
  {
   "cell_type": "code",
   "execution_count": 52,
   "metadata": {},
   "outputs": [
    {
     "name": "stdout",
     "output_type": "stream",
     "text": [
      "   state  rating_int\n",
      "11    VA    3.697674\n",
      "2     DC    3.594436\n",
      "8     PA    3.463035\n",
      "0           3.383333\n",
      "4     IL    3.362184\n",
      "7     NY    3.299466\n",
      "5     NJ    3.255710\n",
      "1     CA    3.191455\n",
      "9     TX    3.155415\n",
      "6     NV    2.978641\n",
      "3     FL    2.867514\n",
      "10    UT    2.525843\n"
     ]
    }
   ],
   "source": [
    "# Grouping by state and calculating the mean rating\n",
    "state_ratings = df.groupby('state')['rating_int'].mean().reset_index()\n",
    "# Sorting the states by mean rating\n",
    "state_ratings_sorted = state_ratings.sort_values(by='rating_int', ascending=False)\n",
    "print(state_ratings_sorted)"
   ]
  },
  {
   "cell_type": "code",
   "execution_count": 54,
   "metadata": {},
   "outputs": [
    {
     "data": {
      "image/png": "[encoded data removed]",
      "text/plain": [
       "<Figure size 1500x600 with 1 Axes>"
      ]
     },
     "metadata": {},
     "output_type": "display_data"
    }
   ],
   "source": [
    "plt.figure(figsize=(15, 6))\n",
    "sns.barplot(x='state', y='rating_int', data=state_ratings_sorted)\n",
    "plt.xticks(rotation=90)\n",
    "plt.title('Average Star Ratings by State')\n",
    "plt.show()"
   ]
  }
 ],
 "metadata": {
  "kernelspec": {
   "display_name": "msaai-1",
   "language": "python",
   "name": "python3"
  },
  "language_info": {
   "codemirror_mode": {
    "name": "ipython",
    "version": 3
   },
   "file_extension": ".py",
   "mimetype": "text/x-python",
   "name": "python",
   "nbconvert_exporter": "python",
   "pygments_lexer": "ipython3",
   "version": "3.10.12"
  },
  "orig_nbformat": 4
 },
 "nbformat": 4,
 "nbformat_minor": 2
}
